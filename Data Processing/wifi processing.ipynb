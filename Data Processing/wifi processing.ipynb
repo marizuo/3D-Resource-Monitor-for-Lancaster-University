{
 "cells": [
  {
   "cell_type": "code",
   "execution_count": null,
   "metadata": {},
   "outputs": [],
   "source": [
    "import pandas as pd"
   ]
  },
  {
   "cell_type": "markdown",
   "metadata": {},
   "source": [
    "# Load the raw wifi data, convert it to pandas datetime format"
   ]
  },
  {
   "cell_type": "code",
   "execution_count": null,
   "metadata": {},
   "outputs": [],
   "source": [
    "wifi_data = pd.read_csv('wifi.csv')\n",
    "wifi_data['time'] = pd.to_datetime(wifi_data['time'])"
   ]
  },
  {
   "cell_type": "markdown",
   "metadata": {},
   "source": [
    "# Remove duplicate records (this happens nearly exclusively a lot during the January - March period, unclear why)"
   ]
  },
  {
   "cell_type": "code",
   "execution_count": null,
   "metadata": {},
   "outputs": [],
   "source": [
    "wifi_data = wifi_data.drop_duplicates(['time', 'Authenticated Client Count'])"
   ]
  },
  {
   "cell_type": "markdown",
   "metadata": {},
   "source": [
    "# Iterate through all buildings in the wifi data, summing all readings for each timestmap per building (each building will have several readings for each timestamp)\n",
    "# Take average connections in a 1 hour period using pd.grouper\n",
    "# add building name to the df\n",
    "# add the building-specific dataframe to the all_data df"
   ]
  },
  {
   "cell_type": "code",
   "execution_count": null,
   "metadata": {},
   "outputs": [],
   "source": [
    "all_data = pd.DataFrame()\n",
    "for building in wifi_data['Building'].unique():\n",
    "    wifi_building_data = wifi_data[wifi_data['Building'] == building][['time', 'Authenticated Client Count']].groupby('time').sum().reset_index()\n",
    "    wifi_building_data = wifi_building_data.groupby(pd.Grouper(key='time', freq='1H')).mean().reset_index()   \n",
    "    wifi_building_data['building'] = building\n",
    "    all_data = all_data.append(wifi_building_data)\n",
    "    print(building)"
   ]
  },
  {
   "cell_type": "markdown",
   "metadata": {},
   "source": [
    "# Load the Wifi building names and their associated building codes. This is used to jo"
   ]
  },
  {
   "cell_type": "code",
   "execution_count": null,
   "metadata": {},
   "outputs": [],
   "source": [
    "wifi_buildings = pd.read_csv('wifi_buildings.csv')"
   ]
  },
  {
   "cell_type": "code",
   "execution_count": null,
   "metadata": {},
   "outputs": [],
   "source": [
    "all_data = all_data.reset_index()"
   ]
  },
  {
   "cell_type": "code",
   "execution_count": null,
   "metadata": {},
   "outputs": [],
   "source": [
    "wifi_data_withcodes = pd.merge(all_data, wifi_buildings, how='inner', on='building')"
   ]
  },
  {
   "cell_type": "code",
   "execution_count": null,
   "metadata": {},
   "outputs": [],
   "source": [
    "wifi_data_withcodes.groupby('time').sum()['Authenticated Client Count'].mean()"
   ]
  },
  {
   "cell_type": "code",
   "execution_count": null,
   "metadata": {},
   "outputs": [],
   "source": [
    "wifi_data_withcodes[['time', 'Authenticated Client Count', 'buildingCode']].to_csv('wifi_data_fin2.csv', header=True, date_format='%Y-%m-%dT%H:%M:%SZ')"
   ]
  }
 ],
 "metadata": {
  "kernelspec": {
   "display_name": "Python 3",
   "language": "python",
   "name": "python3"
  },
  "language_info": {
   "codemirror_mode": {
    "name": "ipython",
    "version": 3
   },
   "file_extension": ".py",
   "mimetype": "text/x-python",
   "name": "python",
   "nbconvert_exporter": "python",
   "pygments_lexer": "ipython3",
   "version": "3.7.4"
  }
 },
 "nbformat": 4,
 "nbformat_minor": 4
}
